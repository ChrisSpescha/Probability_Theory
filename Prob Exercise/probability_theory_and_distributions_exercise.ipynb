{
 "cells": [
  {
   "cell_type": "code",
   "execution_count": 1,
   "metadata": {
    "ExecuteTime": {
     "end_time": "2020-02-05T17:54:42.062131Z",
     "start_time": "2020-02-05T17:54:41.626763Z"
    }
   },
   "outputs": [],
   "source": [
    "# import numpy\n",
    "import numpy as np\n",
    "\n",
    "# import matplotlib.pyplot\n",
    "import matplotlib.pyplot as plt\n",
    "\n",
    "# import Counter\n",
    "from collections import Counter\n",
    "\n",
    "# use style 'fivethirtyeight' (optional)\n",
    "plt.style.use('fivethirtyeight')"
   ]
  },
  {
   "cell_type": "markdown",
   "metadata": {
    "ExecuteTime": {
     "end_time": "2020-02-05T17:54:42.113199Z",
     "start_time": "2020-02-05T17:54:42.101587Z"
    }
   },
   "source": [
    "#### Create function `perform_bernoulli_trial` with parameters n and p\n",
    "\n",
    "PARAMS:\n",
    "- n (int) - number of trials\n",
    "- p (float) - probability of success\n",
    "\n",
    "RETURNS:\n",
    "- n_success (int) - number of successes\n",
    "\n"
   ]
  },
  {
   "cell_type": "code",
   "execution_count": 46,
   "metadata": {},
   "outputs": [],
   "source": [
    "def perform_bernoulli_trial(n, p):\n",
    "    n_success = 0\n",
    "    for i in range(n):\n",
    "        num = np.random.randint(0, 2)\n",
    "        if num == 1: \n",
    "            n_success += 1\n",
    "    return n_success"
   ]
  },
  {
   "cell_type": "code",
   "execution_count": 45,
   "metadata": {},
   "outputs": [
    {
     "data": {
      "text/plain": [
       "1"
      ]
     },
     "execution_count": 45,
     "metadata": {},
     "output_type": "execute_result"
    }
   ],
   "source": [
    "        num = np.random.randint(0, 2)\n",
    "num"
   ]
  },
  {
   "cell_type": "markdown",
   "metadata": {
    "ExecuteTime": {
     "end_time": "2020-02-05T17:54:42.610756Z",
     "start_time": "2020-02-05T17:54:42.602316Z"
    }
   },
   "source": [
    "#### Use function `perform_bernoulli_trial` with inputs n = 100, p = 0.5"
   ]
  },
  {
   "cell_type": "code",
   "execution_count": 62,
   "metadata": {},
   "outputs": [
    {
     "name": "stdout",
     "output_type": "stream",
     "text": [
      "43\n"
     ]
    }
   ],
   "source": [
    "print(perform_bernoulli_trial(100, 0.5))"
   ]
  },
  {
   "cell_type": "markdown",
   "metadata": {
    "ExecuteTime": {
     "end_time": "2020-02-05T17:54:43.020097Z",
     "start_time": "2020-02-05T17:54:42.962800Z"
    }
   },
   "source": [
    "#### Call function _perform_bernoulli_trial_ 1000-times with same parameters as before and store the result in `successes_list`"
   ]
  },
  {
   "cell_type": "code",
   "execution_count": 65,
   "metadata": {},
   "outputs": [],
   "source": [
    "successes_list = []\n",
    "for i in range(1000):\n",
    "    success = perform_bernoulli_trial(100, 0.5)\n",
    "    successes_list.append(success)"
   ]
  },
  {
   "cell_type": "code",
   "execution_count": 67,
   "metadata": {},
   "outputs": [
    {
     "data": {
      "text/plain": [
       "1000"
      ]
     },
     "execution_count": 67,
     "metadata": {},
     "output_type": "execute_result"
    }
   ],
   "source": [
    "len(successes_list)"
   ]
  },
  {
   "cell_type": "markdown",
   "metadata": {
    "ExecuteTime": {
     "end_time": "2020-02-05T17:54:43.296477Z",
     "start_time": "2020-02-05T17:54:43.289959Z"
    }
   },
   "source": [
    "#### Count occurence of each number from `successes_list` using Counter and store the result in `count_occurence`\n",
    "\n",
    "You can find for more info about Counter [**here**](https://docs.python.org/2/library/collections.html#collections.Counter)."
   ]
  },
  {
   "cell_type": "code",
   "execution_count": 68,
   "metadata": {},
   "outputs": [],
   "source": [
    "count_occurence = Counter(successes_list)"
   ]
  },
  {
   "cell_type": "code",
   "execution_count": 69,
   "metadata": {},
   "outputs": [
    {
     "data": {
      "text/plain": [
       "Counter({55: 50,\n",
       "         49: 83,\n",
       "         51: 71,\n",
       "         48: 71,\n",
       "         54: 54,\n",
       "         46: 72,\n",
       "         45: 55,\n",
       "         42: 31,\n",
       "         52: 75,\n",
       "         47: 70,\n",
       "         39: 9,\n",
       "         43: 27,\n",
       "         50: 79,\n",
       "         53: 58,\n",
       "         64: 2,\n",
       "         59: 11,\n",
       "         44: 49,\n",
       "         56: 29,\n",
       "         38: 9,\n",
       "         61: 8,\n",
       "         41: 17,\n",
       "         63: 5,\n",
       "         40: 9,\n",
       "         62: 4,\n",
       "         57: 25,\n",
       "         58: 12,\n",
       "         60: 7,\n",
       "         37: 4,\n",
       "         34: 1,\n",
       "         65: 1,\n",
       "         36: 1,\n",
       "         35: 1})"
      ]
     },
     "execution_count": 69,
     "metadata": {},
     "output_type": "execute_result"
    }
   ],
   "source": [
    "count_occurence"
   ]
  },
  {
   "cell_type": "markdown",
   "metadata": {
    "ExecuteTime": {
     "end_time": "2020-02-05T17:54:43.571225Z",
     "start_time": "2020-02-05T17:54:43.568147Z"
    }
   },
   "source": [
    "#### Count the probability for each number from `count_occurence` and store the result in `probas`\n"
   ]
  },
  {
   "cell_type": "code",
   "execution_count": 72,
   "metadata": {},
   "outputs": [],
   "source": [
    "probas = [val/1000 for val in count_occurence.keys()]"
   ]
  },
  {
   "cell_type": "code",
   "execution_count": 74,
   "metadata": {},
   "outputs": [],
   "source": [
    "# probas"
   ]
  },
  {
   "cell_type": "markdown",
   "metadata": {},
   "source": [
    "Below you have some information about how to do plots in Python. We will be covering all of this during the bootcamp. But you can find these basics here so we can visualize the distributions."
   ]
  },
  {
   "cell_type": "code",
   "execution_count": 75,
   "metadata": {
    "ExecuteTime": {
     "end_time": "2020-02-05T17:54:44.056628Z",
     "start_time": "2020-02-05T17:54:43.850076Z"
    }
   },
   "outputs": [
    {
     "data": {
      "image/png": "[encoded data removed]",
      "text/plain": [
       "<Figure size 640x480 with 1 Axes>"
      ]
     },
     "metadata": {},
     "output_type": "display_data"
    }
   ],
   "source": [
    "# plot distribution (PMF) of 'succes_list'\n",
    "plt.scatter(x=count_occurence.keys(), y=probas)\n",
    "plt.xlabel('number of succeess out of 100')\n",
    "plt.ylabel('probability')\n",
    "# Show the plot\n",
    "plt.show()"
   ]
  },
  {
   "cell_type": "markdown",
   "metadata": {
    "ExecuteTime": {
     "end_time": "2020-02-05T17:54:44.112264Z",
     "start_time": "2020-02-05T17:54:44.096570Z"
    }
   },
   "source": [
    "#### Generate 100000 numbers from uniform distribution with parameters a = 1, b = 6\n"
   ]
  },
  {
   "cell_type": "code",
   "execution_count": 80,
   "metadata": {},
   "outputs": [],
   "source": [
    "uniform = np.random.uniform(low=1, high=6, size=100000)"
   ]
  },
  {
   "cell_type": "code",
   "execution_count": 81,
   "metadata": {},
   "outputs": [
    {
     "data": {
      "text/plain": [
       "array([3.41556335, 1.932976  , 4.0115886 , ..., 3.04670282, 4.72529627,\n",
       "       2.23533411])"
      ]
     },
     "execution_count": 81,
     "metadata": {},
     "output_type": "execute_result"
    }
   ],
   "source": [
    "uniform"
   ]
  },
  {
   "cell_type": "code",
   "execution_count": 82,
   "metadata": {
    "ExecuteTime": {
     "end_time": "2020-02-05T17:54:44.515039Z",
     "start_time": "2020-02-05T17:54:44.330746Z"
    },
    "collapsed": true,
    "jupyter": {
     "outputs_hidden": true
    },
    "tags": []
   },
   "outputs": [
    {
     "data": {
      "image/png": "[encoded data removed]",
      "text/plain": [
       "<Figure size 640x480 with 1 Axes>"
      ]
     },
     "metadata": {},
     "output_type": "display_data"
    }
   ],
   "source": [
    "# plot histogram of uniform distribution with paramsdensity=True, bins=6\n",
    "plt.hist(uniform, density=True, bins=6)\n",
    "plt.ylabel('density')\n",
    "plt.xlabel('value')\n",
    "plt.show()"
   ]
  },
  {
   "cell_type": "markdown",
   "metadata": {
    "ExecuteTime": {
     "end_time": "2020-02-05T17:54:44.583762Z",
     "start_time": "2020-02-05T17:54:44.555162Z"
    }
   },
   "source": [
    "#### Check the mean of uniform data (using NumPy)"
   ]
  },
  {
   "cell_type": "code",
   "execution_count": 83,
   "metadata": {},
   "outputs": [
    {
     "data": {
      "text/plain": [
       "3.503888477351844"
      ]
     },
     "execution_count": 83,
     "metadata": {},
     "output_type": "execute_result"
    }
   ],
   "source": [
    "np.mean(uniform)"
   ]
  },
  {
   "cell_type": "markdown",
   "metadata": {
    "ExecuteTime": {
     "end_time": "2020-02-05T17:54:44.758510Z",
     "start_time": "2020-02-05T17:54:44.752087Z"
    }
   },
   "source": [
    "#### Generate 100000 numbers from exponential distribution with parameter beta = 0.5\n",
    "\n",
    "The exponential distribution is sometimes parametrized in terms of the scale parameter **β = 1/λ**. We were reading about the **λ** in the previous reading."
   ]
  },
  {
   "cell_type": "code",
   "execution_count": 84,
   "metadata": {},
   "outputs": [],
   "source": [
    "exponential = np.random.exponential(scale=0.5, size=100000)"
   ]
  },
  {
   "cell_type": "code",
   "execution_count": null,
   "metadata": {},
   "outputs": [],
   "source": []
  },
  {
   "cell_type": "markdown",
   "metadata": {
    "ExecuteTime": {
     "end_time": "2020-02-05T17:54:45.134091Z",
     "start_time": "2020-02-05T17:54:44.956351Z"
    }
   },
   "source": [
    "#### Plot histogram of exponential distribution with params `density=True`, `bins=100`\n"
   ]
  },
  {
   "cell_type": "code",
   "execution_count": 85,
   "metadata": {},
   "outputs": [
    {
     "data": {
      "image/png": "[encoded data removed]",
      "text/plain": [
       "<Figure size 640x480 with 1 Axes>"
      ]
     },
     "metadata": {},
     "output_type": "display_data"
    }
   ],
   "source": [
    "plt.hist(exponential, density=True, bins=100)\n",
    "plt.show()"
   ]
  },
  {
   "cell_type": "code",
   "execution_count": null,
   "metadata": {},
   "outputs": [],
   "source": []
  },
  {
   "cell_type": "markdown",
   "metadata": {
    "ExecuteTime": {
     "end_time": "2020-02-05T17:54:45.187080Z",
     "start_time": "2020-02-05T17:54:45.171406Z"
    }
   },
   "source": [
    "#### Check the mean of exponential data"
   ]
  },
  {
   "cell_type": "code",
   "execution_count": 86,
   "metadata": {},
   "outputs": [
    {
     "data": {
      "text/plain": [
       "0.4979177158681234"
      ]
     },
     "execution_count": 86,
     "metadata": {},
     "output_type": "execute_result"
    }
   ],
   "source": [
    "np.mean(exponential)"
   ]
  },
  {
   "cell_type": "code",
   "execution_count": null,
   "metadata": {},
   "outputs": [],
   "source": []
  }
 ],
 "metadata": {
  "kernelspec": {
   "display_name": "Python 3 (ipykernel)",
   "language": "python",
   "name": "python3"
  },
  "language_info": {
   "codemirror_mode": {
    "name": "ipython",
    "version": 3
   },
   "file_extension": ".py",
   "mimetype": "text/x-python",
   "name": "python",
   "nbconvert_exporter": "python",
   "pygments_lexer": "ipython3",
   "version": "3.9.13"
  },
  "toc": {
   "base_numbering": 1,
   "nav_menu": {},
   "number_sections": true,
   "sideBar": true,
   "skip_h1_title": false,
   "title_cell": "Table of Contents",
   "title_sidebar": "Contents",
   "toc_cell": false,
   "toc_position": {},
   "toc_section_display": true,
   "toc_window_display": false
  },
  "varInspector": {
   "cols": {
    "lenName": 16,
    "lenType": 16,
    "lenVar": 40
   },
   "kernels_config": {
    "python": {
     "delete_cmd_postfix": "",
     "delete_cmd_prefix": "del ",
     "library": "var_list.py",
     "varRefreshCmd": "print(var_dic_list())"
    },
    "r": {
     "delete_cmd_postfix": ") ",
     "delete_cmd_prefix": "rm(",
     "library": "var_list.r",
     "varRefreshCmd": "cat(var_dic_list()) "
    }
   },
   "types_to_exclude": [
    "module",
    "function",
    "builtin_function_or_method",
    "instance",
    "_Feature"
   ],
   "window_display": false
  }
 },
 "nbformat": 4,
 "nbformat_minor": 4
}
